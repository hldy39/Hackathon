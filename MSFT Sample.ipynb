{
 "cells": [
  {
   "cell_type": "code",
   "execution_count": 1,
   "source": [
    "# pip install yfinance\r\n",
    "# pip install yahoo-finance (Alternative)"
   ],
   "outputs": [],
   "metadata": {}
  },
  {
   "cell_type": "code",
   "execution_count": 2,
   "source": [
    "import yfinance as yf\r\n",
    "import pandas as pd"
   ],
   "outputs": [],
   "metadata": {}
  },
  {
   "cell_type": "code",
   "execution_count": 3,
   "source": [
    "msft = yf.Ticker('MSFT')\r\n",
    "msft.info"
   ],
   "outputs": [
    {
     "output_type": "execute_result",
     "data": {
      "text/plain": [
       "{'zip': '98052-6399',\n",
       " 'sector': 'Technology',\n",
       " 'fullTimeEmployees': 181000,\n",
       " 'longBusinessSummary': 'Microsoft Corporation develops, licenses, and supports software, services, devices, and solutions worldwide. Its Productivity and Business Processes segment offers Office, Exchange, SharePoint, Microsoft Teams, Office 365 Security and Compliance, and Skype for Business, as well as related Client Access Licenses (CAL); Skype, Outlook.com, OneDrive, and LinkedIn; and Dynamics 365, a set of cloud-based and on-premises business solutions for organizations and enterprise divisions. Its Intelligent Cloud segment licenses SQL, Windows Servers, Visual Studio, System Center, and related CALs; GitHub that provides a collaboration platform and code hosting service for developers; and Azure, a cloud platform. It also offers support services and Microsoft consulting services to assist customers in developing, deploying, and managing Microsoft server and desktop solutions; and training and certification on Microsoft products. Its More Personal Computing segment provides Windows original equipment manufacturer (OEM) licensing and other non-volume licensing of the Windows operating system; Windows Commercial, such as volume licensing of the Windows operating system, Windows cloud services, and other Windows commercial offerings; patent licensing; Windows Internet of Things; and MSN advertising. It also offers Surface, PC accessories, PCs, tablets, gaming and entertainment consoles, and other devices; Gaming, including Xbox hardware, and Xbox content and services; video games and third-party video game royalties; and Search, including Bing and Microsoft advertising. It sells its products through OEMs, distributors, and resellers; and directly through digital marketplaces, online stores, and retail stores. It has collaborations with Dynatrace, Inc., Morgan Stanley, Micro Focus, WPP plc, ACI Worldwide, Inc., and iCIMS, Inc., as well as a strategic relationship with Avaya Holdings Corp. Microsoft Corporation was founded in 1975 and is headquartered in Redmond, Washington.',\n",
       " 'city': 'Redmond',\n",
       " 'phone': '425 882 8080',\n",
       " 'state': 'WA',\n",
       " 'country': 'United States',\n",
       " 'companyOfficers': [],\n",
       " 'website': 'http://www.microsoft.com',\n",
       " 'maxAge': 1,\n",
       " 'address1': 'One Microsoft Way',\n",
       " 'industry': 'Software—Infrastructure',\n",
       " 'ebitdaMargins': 0.48080003,\n",
       " 'profitMargins': 0.36451998,\n",
       " 'grossMargins': 0.68926,\n",
       " 'operatingCashflow': 76740001792,\n",
       " 'revenueGrowth': 0.213,\n",
       " 'operatingMargins': 0.41595,\n",
       " 'ebitda': 80815996928,\n",
       " 'targetLowPrice': 280,\n",
       " 'recommendationKey': 'buy',\n",
       " 'grossProfits': 115856000000,\n",
       " 'freeCashflow': 41337249792,\n",
       " 'targetMedianPrice': 338,\n",
       " 'currentPrice': 281.1777,\n",
       " 'earningsGrowth': 0.486,\n",
       " 'currentRatio': 2.08,\n",
       " 'returnOnAssets': 0.13761,\n",
       " 'numberOfAnalystOpinions': 37,\n",
       " 'targetMeanPrice': 336.28,\n",
       " 'debtToEquity': 57.947,\n",
       " 'returnOnEquity': 0.47079,\n",
       " 'targetHighPrice': 411,\n",
       " 'totalCash': 130256003072,\n",
       " 'totalDebt': 82277998592,\n",
       " 'totalRevenue': 168087994368,\n",
       " 'totalCashPerShare': 17.333,\n",
       " 'financialCurrency': 'USD',\n",
       " 'revenuePerShare': 22.272,\n",
       " 'quickRatio': 1.898,\n",
       " 'recommendationMean': 1.7,\n",
       " 'exchange': 'NMS',\n",
       " 'shortName': 'Microsoft Corporation',\n",
       " 'longName': 'Microsoft Corporation',\n",
       " 'exchangeTimezoneName': 'America/New_York',\n",
       " 'exchangeTimezoneShortName': 'EDT',\n",
       " 'isEsgPopulated': False,\n",
       " 'gmtOffSetMilliseconds': '-14400000',\n",
       " 'quoteType': 'EQUITY',\n",
       " 'symbol': 'MSFT',\n",
       " 'messageBoardId': 'finmb_21835',\n",
       " 'market': 'us_market',\n",
       " 'annualHoldingsTurnover': None,\n",
       " 'enterpriseToRevenue': 12.64,\n",
       " 'beta3Year': None,\n",
       " 'enterpriseToEbitda': 26.289,\n",
       " '52WeekChange': 0.37418008,\n",
       " 'morningStarRiskRating': None,\n",
       " 'forwardEps': 10.11,\n",
       " 'revenueQuarterlyGrowth': None,\n",
       " 'sharesOutstanding': 7514890240,\n",
       " 'fundInceptionDate': None,\n",
       " 'annualReportExpenseRatio': None,\n",
       " 'totalAssets': None,\n",
       " 'bookValue': 18.884,\n",
       " 'sharesShort': 44204519,\n",
       " 'sharesPercentSharesOut': 0.0058999998,\n",
       " 'fundFamily': None,\n",
       " 'lastFiscalYearEnd': 1625011200,\n",
       " 'heldPercentInstitutions': 0.71693003,\n",
       " 'netIncomeToCommon': 61270999040,\n",
       " 'trailingEps': 8.05,\n",
       " 'lastDividendValue': None,\n",
       " 'SandP52WeekChange': 0.26372707,\n",
       " 'priceToBook': 14.889731,\n",
       " 'heldPercentInsiders': 0.00079,\n",
       " 'nextFiscalYearEnd': 1688083200,\n",
       " 'yield': None,\n",
       " 'mostRecentQuarter': 1625011200,\n",
       " 'shortRatio': 2.05,\n",
       " 'sharesShortPreviousMonthDate': 1628812800,\n",
       " 'floatShares': 7506925463,\n",
       " 'beta': 0.802645,\n",
       " 'enterpriseValue': 2124577112064,\n",
       " 'priceHint': 2,\n",
       " 'threeYearAverageReturn': None,\n",
       " 'lastSplitDate': None,\n",
       " 'lastSplitFactor': None,\n",
       " 'legalType': None,\n",
       " 'lastDividendDate': None,\n",
       " 'morningStarOverallRating': None,\n",
       " 'earningsQuarterlyGrowth': 0.469,\n",
       " 'priceToSalesTrailing12Months': 12.570913,\n",
       " 'dateShortInterest': 1631664000,\n",
       " 'pegRatio': 2.25,\n",
       " 'ytdReturn': None,\n",
       " 'forwardPE': 27.811842,\n",
       " 'lastCapGain': None,\n",
       " 'shortPercentOfFloat': 0.0058999998,\n",
       " 'sharesShortPriorMonth': 41985444,\n",
       " 'impliedSharesOutstanding': None,\n",
       " 'category': None,\n",
       " 'fiveYearAverageReturn': None,\n",
       " 'previousClose': 289.1,\n",
       " 'regularMarketOpen': 287.4,\n",
       " 'twoHundredDayAverage': 270.0376,\n",
       " 'trailingAnnualDividendYield': 0.007748184,\n",
       " 'payoutRatio': 0.272,\n",
       " 'volume24Hr': None,\n",
       " 'regularMarketDayHigh': 287.75,\n",
       " 'navPrice': None,\n",
       " 'averageDailyVolume10Day': 28019794,\n",
       " 'regularMarketPreviousClose': 289.1,\n",
       " 'fiftyDayAverage': 297.54587,\n",
       " 'trailingAnnualDividendRate': 2.24,\n",
       " 'open': 287.4,\n",
       " 'toCurrency': None,\n",
       " 'averageVolume10days': 28019794,\n",
       " 'expireDate': None,\n",
       " 'algorithm': None,\n",
       " 'dividendRate': 2.48,\n",
       " 'exDividendDate': 1637107200,\n",
       " 'circulatingSupply': None,\n",
       " 'startDate': None,\n",
       " 'regularMarketDayLow': 280.91,\n",
       " 'currency': 'USD',\n",
       " 'trailingPE': 34.928905,\n",
       " 'regularMarketVolume': 8380775,\n",
       " 'lastMarket': None,\n",
       " 'maxSupply': None,\n",
       " 'openInterest': None,\n",
       " 'marketCap': 2113019576320,\n",
       " 'volumeAllCurrencies': None,\n",
       " 'strikePrice': None,\n",
       " 'averageVolume': 23036694,\n",
       " 'dayLow': 280.91,\n",
       " 'ask': 281.56,\n",
       " 'askSize': 800,\n",
       " 'volume': 8380775,\n",
       " 'fiftyTwoWeekHigh': 305.84,\n",
       " 'fromCurrency': None,\n",
       " 'fiveYearAvgDividendYield': 1.48,\n",
       " 'fiftyTwoWeekLow': 199.62,\n",
       " 'bid': 281.58,\n",
       " 'tradeable': False,\n",
       " 'dividendYield': 0.0086,\n",
       " 'bidSize': 900,\n",
       " 'dayHigh': 287.75,\n",
       " 'regularMarketPrice': 281.1777,\n",
       " 'logo_url': 'https://logo.clearbit.com/microsoft.com'}"
      ]
     },
     "metadata": {},
     "execution_count": 3
    }
   ],
   "metadata": {}
  },
  {
   "cell_type": "code",
   "execution_count": 4,
   "source": [
    "msft.earnings\r\n",
    "# how to extract the earnings for 2021? ($61271000000)"
   ],
   "outputs": [
    {
     "output_type": "execute_result",
     "data": {
      "text/html": [
       "<div>\n",
       "<style scoped>\n",
       "    .dataframe tbody tr th:only-of-type {\n",
       "        vertical-align: middle;\n",
       "    }\n",
       "\n",
       "    .dataframe tbody tr th {\n",
       "        vertical-align: top;\n",
       "    }\n",
       "\n",
       "    .dataframe thead th {\n",
       "        text-align: right;\n",
       "    }\n",
       "</style>\n",
       "<table border=\"1\" class=\"dataframe\">\n",
       "  <thead>\n",
       "    <tr style=\"text-align: right;\">\n",
       "      <th></th>\n",
       "      <th>Revenue</th>\n",
       "      <th>Earnings</th>\n",
       "    </tr>\n",
       "    <tr>\n",
       "      <th>Year</th>\n",
       "      <th></th>\n",
       "      <th></th>\n",
       "    </tr>\n",
       "  </thead>\n",
       "  <tbody>\n",
       "    <tr>\n",
       "      <th>2018</th>\n",
       "      <td>110360000000</td>\n",
       "      <td>16571000000</td>\n",
       "    </tr>\n",
       "    <tr>\n",
       "      <th>2019</th>\n",
       "      <td>125843000000</td>\n",
       "      <td>39240000000</td>\n",
       "    </tr>\n",
       "    <tr>\n",
       "      <th>2020</th>\n",
       "      <td>143015000000</td>\n",
       "      <td>44281000000</td>\n",
       "    </tr>\n",
       "    <tr>\n",
       "      <th>2021</th>\n",
       "      <td>168088000000</td>\n",
       "      <td>61271000000</td>\n",
       "    </tr>\n",
       "  </tbody>\n",
       "</table>\n",
       "</div>"
      ],
      "text/plain": [
       "           Revenue     Earnings\n",
       "Year                           \n",
       "2018  110360000000  16571000000\n",
       "2019  125843000000  39240000000\n",
       "2020  143015000000  44281000000\n",
       "2021  168088000000  61271000000"
      ]
     },
     "metadata": {},
     "execution_count": 4
    }
   ],
   "metadata": {}
  },
  {
   "cell_type": "code",
   "execution_count": 5,
   "source": [
    "msft.info['sharesOutstanding']"
   ],
   "outputs": [
    {
     "output_type": "execute_result",
     "data": {
      "text/plain": [
       "7514890240"
      ]
     },
     "metadata": {},
     "execution_count": 5
    }
   ],
   "metadata": {}
  },
  {
   "cell_type": "code",
   "execution_count": 6,
   "source": [
    "# EPS = earnings/sharesOutstanding"
   ],
   "outputs": [],
   "metadata": {
    "scrolled": true
   }
  },
  {
   "cell_type": "code",
   "execution_count": 7,
   "source": [
    "msft.info['currentPrice']"
   ],
   "outputs": [
    {
     "output_type": "execute_result",
     "data": {
      "text/plain": [
       "281.1777"
      ]
     },
     "metadata": {},
     "execution_count": 7
    }
   ],
   "metadata": {}
  },
  {
   "cell_type": "code",
   "execution_count": 8,
   "source": [
    "# PE Ratio = currentPrice/EPS"
   ],
   "outputs": [],
   "metadata": {}
  },
  {
   "cell_type": "code",
   "execution_count": 9,
   "source": [
    "msft.info['trailingEps']"
   ],
   "outputs": [
    {
     "output_type": "execute_result",
     "data": {
      "text/plain": [
       "8.05"
      ]
     },
     "metadata": {},
     "execution_count": 9
    }
   ],
   "metadata": {}
  }
 ],
 "metadata": {
  "kernelspec": {
   "name": "python3",
   "display_name": "Python 3.8.5 64-bit ('base': conda)"
  },
  "language_info": {
   "codemirror_mode": {
    "name": "ipython",
    "version": 3
   },
   "file_extension": ".py",
   "mimetype": "text/x-python",
   "name": "python",
   "nbconvert_exporter": "python",
   "pygments_lexer": "ipython3",
   "version": "3.8.5"
  },
  "interpreter": {
   "hash": "352279c6870f634c602ccd78575227a759f88b58f1527652dcb40dc4550caf1a"
  }
 },
 "nbformat": 4,
 "nbformat_minor": 4
}